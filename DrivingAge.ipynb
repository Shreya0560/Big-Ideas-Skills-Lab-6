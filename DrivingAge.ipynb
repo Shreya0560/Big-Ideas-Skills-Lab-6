age = input("What is your age?") 
age = int(age)
if(age >= 21): 
    print("Congrats! You can now legally drive in America-have fun!! :)") 
else: 
    yearsLeft = 21 - age  
    yearsLeft = str(yearsLeft)
    print("Sorry, there are still " + yearsLeft + " years until you can legally drive in America")
