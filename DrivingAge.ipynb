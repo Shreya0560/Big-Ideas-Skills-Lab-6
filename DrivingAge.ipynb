{
 "cells": [
  {
   "cell_type": "code",
   "execution_count": null,
   "metadata": {},
   "outputs": [],
   "source": [
    "age = input(\"What is your age?\") \n",
    "age = int(age)\n",
    "if(age >= 16): \n",
    "    print(\"Congrats! You can now legally drive in America-have fun!! :)\") \n",
    "else: \n",
    "    yearsLeft = 16 - age  \n",
    "    yearsLeft = str(yearsLeft)\n",
    "    print(\"Sorry, there are still \" + yearsLeft + \" years until you can legally drive in America\")"
   ]
  }
 ],
 "metadata": {
  "kernelspec": {
   "display_name": "Python 3",
   "language": "python",
   "name": "python3"
  },
  "language_info": {
   "codemirror_mode": {
    "name": "ipython",
    "version": 3
   },
   "file_extension": ".py",
   "mimetype": "text/x-python",
   "name": "python",
   "nbconvert_exporter": "python",
   "pygments_lexer": "ipython3",
   "version": "3.8.3"
  }
 },
 "nbformat": 4,
 "nbformat_minor": 4
}
